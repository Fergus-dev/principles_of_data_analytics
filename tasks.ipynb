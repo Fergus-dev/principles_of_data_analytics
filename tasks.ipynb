{
 "cells": [
  {
   "cell_type": "markdown",
   "metadata": {},
   "source": [
    "# Tasks"
   ]
  },
  {
   "cell_type": "markdown",
   "metadata": {},
   "source": [
    "## Loading the Iris dataset using sklearn.dataset()\n",
    "\n",
    "Resources used in this section:\n",
    "\n",
    "- https://scikit-learn.org/stable/modules/generated/sklearn.datasets.load_iris.html#sklearn.datasets.load_iris\n",
    "\n",
    "This function returns a dictionary-like object called 'Data'.\n",
    "\n",
    "'Data' contains a number of attributes:\n",
    "\n",
    "- data (refers to the data matrix i.e data frame/table. This contains a collection of lists, each containing a data point for each feature name (sepal length/width, petal length/width))\n",
    "\n",
    "- target (this refers to the classification target i.e the data series that has been identified as a class in the data set. In the iris example, each species type is assigned a number, 0 through 2, classifying each row of data. When I view the  target_names variable for instance, the numpy array (['setosa', 'veriscolour', 'virginica']) is returned. The sklearn.datasets() function has identified that these are categorical variables that repeat and has accordingly identified them as our classification target and assinged them a number (0,2))\n",
    "\n",
    "- target names (building on the above - the target names listed are setosa, veriscolour, and virginica. Because these pieces of data repeat, sklearn.datasets() has identified them as classes - otherwise referred to as targets in this context)\n",
    "\n",
    "- DESCR (this attribute describes the data, listing things such as .......)\n",
    "\n",
    "- feature names (as noted above, these have been identified as the features of each class of data, and correspond to the lists of data points contained in the data attribute)\n",
    "\n"
   ]
  },
  {
   "cell_type": "code",
   "execution_count": 1,
   "metadata": {},
   "outputs": [
    {
     "data": {
      "text/plain": [
       "{'data': array([[5.1, 3.5, 1.4, 0.2],\n",
       "        [4.9, 3. , 1.4, 0.2],\n",
       "        [4.7, 3.2, 1.3, 0.2],\n",
       "        [4.6, 3.1, 1.5, 0.2],\n",
       "        [5. , 3.6, 1.4, 0.2],\n",
       "        [5.4, 3.9, 1.7, 0.4],\n",
       "        [4.6, 3.4, 1.4, 0.3],\n",
       "        [5. , 3.4, 1.5, 0.2],\n",
       "        [4.4, 2.9, 1.4, 0.2],\n",
       "        [4.9, 3.1, 1.5, 0.1],\n",
       "        [5.4, 3.7, 1.5, 0.2],\n",
       "        [4.8, 3.4, 1.6, 0.2],\n",
       "        [4.8, 3. , 1.4, 0.1],\n",
       "        [4.3, 3. , 1.1, 0.1],\n",
       "        [5.8, 4. , 1.2, 0.2],\n",
       "        [5.7, 4.4, 1.5, 0.4],\n",
       "        [5.4, 3.9, 1.3, 0.4],\n",
       "        [5.1, 3.5, 1.4, 0.3],\n",
       "        [5.7, 3.8, 1.7, 0.3],\n",
       "        [5.1, 3.8, 1.5, 0.3],\n",
       "        [5.4, 3.4, 1.7, 0.2],\n",
       "        [5.1, 3.7, 1.5, 0.4],\n",
       "        [4.6, 3.6, 1. , 0.2],\n",
       "        [5.1, 3.3, 1.7, 0.5],\n",
       "        [4.8, 3.4, 1.9, 0.2],\n",
       "        [5. , 3. , 1.6, 0.2],\n",
       "        [5. , 3.4, 1.6, 0.4],\n",
       "        [5.2, 3.5, 1.5, 0.2],\n",
       "        [5.2, 3.4, 1.4, 0.2],\n",
       "        [4.7, 3.2, 1.6, 0.2],\n",
       "        [4.8, 3.1, 1.6, 0.2],\n",
       "        [5.4, 3.4, 1.5, 0.4],\n",
       "        [5.2, 4.1, 1.5, 0.1],\n",
       "        [5.5, 4.2, 1.4, 0.2],\n",
       "        [4.9, 3.1, 1.5, 0.2],\n",
       "        [5. , 3.2, 1.2, 0.2],\n",
       "        [5.5, 3.5, 1.3, 0.2],\n",
       "        [4.9, 3.6, 1.4, 0.1],\n",
       "        [4.4, 3. , 1.3, 0.2],\n",
       "        [5.1, 3.4, 1.5, 0.2],\n",
       "        [5. , 3.5, 1.3, 0.3],\n",
       "        [4.5, 2.3, 1.3, 0.3],\n",
       "        [4.4, 3.2, 1.3, 0.2],\n",
       "        [5. , 3.5, 1.6, 0.6],\n",
       "        [5.1, 3.8, 1.9, 0.4],\n",
       "        [4.8, 3. , 1.4, 0.3],\n",
       "        [5.1, 3.8, 1.6, 0.2],\n",
       "        [4.6, 3.2, 1.4, 0.2],\n",
       "        [5.3, 3.7, 1.5, 0.2],\n",
       "        [5. , 3.3, 1.4, 0.2],\n",
       "        [7. , 3.2, 4.7, 1.4],\n",
       "        [6.4, 3.2, 4.5, 1.5],\n",
       "        [6.9, 3.1, 4.9, 1.5],\n",
       "        [5.5, 2.3, 4. , 1.3],\n",
       "        [6.5, 2.8, 4.6, 1.5],\n",
       "        [5.7, 2.8, 4.5, 1.3],\n",
       "        [6.3, 3.3, 4.7, 1.6],\n",
       "        [4.9, 2.4, 3.3, 1. ],\n",
       "        [6.6, 2.9, 4.6, 1.3],\n",
       "        [5.2, 2.7, 3.9, 1.4],\n",
       "        [5. , 2. , 3.5, 1. ],\n",
       "        [5.9, 3. , 4.2, 1.5],\n",
       "        [6. , 2.2, 4. , 1. ],\n",
       "        [6.1, 2.9, 4.7, 1.4],\n",
       "        [5.6, 2.9, 3.6, 1.3],\n",
       "        [6.7, 3.1, 4.4, 1.4],\n",
       "        [5.6, 3. , 4.5, 1.5],\n",
       "        [5.8, 2.7, 4.1, 1. ],\n",
       "        [6.2, 2.2, 4.5, 1.5],\n",
       "        [5.6, 2.5, 3.9, 1.1],\n",
       "        [5.9, 3.2, 4.8, 1.8],\n",
       "        [6.1, 2.8, 4. , 1.3],\n",
       "        [6.3, 2.5, 4.9, 1.5],\n",
       "        [6.1, 2.8, 4.7, 1.2],\n",
       "        [6.4, 2.9, 4.3, 1.3],\n",
       "        [6.6, 3. , 4.4, 1.4],\n",
       "        [6.8, 2.8, 4.8, 1.4],\n",
       "        [6.7, 3. , 5. , 1.7],\n",
       "        [6. , 2.9, 4.5, 1.5],\n",
       "        [5.7, 2.6, 3.5, 1. ],\n",
       "        [5.5, 2.4, 3.8, 1.1],\n",
       "        [5.5, 2.4, 3.7, 1. ],\n",
       "        [5.8, 2.7, 3.9, 1.2],\n",
       "        [6. , 2.7, 5.1, 1.6],\n",
       "        [5.4, 3. , 4.5, 1.5],\n",
       "        [6. , 3.4, 4.5, 1.6],\n",
       "        [6.7, 3.1, 4.7, 1.5],\n",
       "        [6.3, 2.3, 4.4, 1.3],\n",
       "        [5.6, 3. , 4.1, 1.3],\n",
       "        [5.5, 2.5, 4. , 1.3],\n",
       "        [5.5, 2.6, 4.4, 1.2],\n",
       "        [6.1, 3. , 4.6, 1.4],\n",
       "        [5.8, 2.6, 4. , 1.2],\n",
       "        [5. , 2.3, 3.3, 1. ],\n",
       "        [5.6, 2.7, 4.2, 1.3],\n",
       "        [5.7, 3. , 4.2, 1.2],\n",
       "        [5.7, 2.9, 4.2, 1.3],\n",
       "        [6.2, 2.9, 4.3, 1.3],\n",
       "        [5.1, 2.5, 3. , 1.1],\n",
       "        [5.7, 2.8, 4.1, 1.3],\n",
       "        [6.3, 3.3, 6. , 2.5],\n",
       "        [5.8, 2.7, 5.1, 1.9],\n",
       "        [7.1, 3. , 5.9, 2.1],\n",
       "        [6.3, 2.9, 5.6, 1.8],\n",
       "        [6.5, 3. , 5.8, 2.2],\n",
       "        [7.6, 3. , 6.6, 2.1],\n",
       "        [4.9, 2.5, 4.5, 1.7],\n",
       "        [7.3, 2.9, 6.3, 1.8],\n",
       "        [6.7, 2.5, 5.8, 1.8],\n",
       "        [7.2, 3.6, 6.1, 2.5],\n",
       "        [6.5, 3.2, 5.1, 2. ],\n",
       "        [6.4, 2.7, 5.3, 1.9],\n",
       "        [6.8, 3. , 5.5, 2.1],\n",
       "        [5.7, 2.5, 5. , 2. ],\n",
       "        [5.8, 2.8, 5.1, 2.4],\n",
       "        [6.4, 3.2, 5.3, 2.3],\n",
       "        [6.5, 3. , 5.5, 1.8],\n",
       "        [7.7, 3.8, 6.7, 2.2],\n",
       "        [7.7, 2.6, 6.9, 2.3],\n",
       "        [6. , 2.2, 5. , 1.5],\n",
       "        [6.9, 3.2, 5.7, 2.3],\n",
       "        [5.6, 2.8, 4.9, 2. ],\n",
       "        [7.7, 2.8, 6.7, 2. ],\n",
       "        [6.3, 2.7, 4.9, 1.8],\n",
       "        [6.7, 3.3, 5.7, 2.1],\n",
       "        [7.2, 3.2, 6. , 1.8],\n",
       "        [6.2, 2.8, 4.8, 1.8],\n",
       "        [6.1, 3. , 4.9, 1.8],\n",
       "        [6.4, 2.8, 5.6, 2.1],\n",
       "        [7.2, 3. , 5.8, 1.6],\n",
       "        [7.4, 2.8, 6.1, 1.9],\n",
       "        [7.9, 3.8, 6.4, 2. ],\n",
       "        [6.4, 2.8, 5.6, 2.2],\n",
       "        [6.3, 2.8, 5.1, 1.5],\n",
       "        [6.1, 2.6, 5.6, 1.4],\n",
       "        [7.7, 3. , 6.1, 2.3],\n",
       "        [6.3, 3.4, 5.6, 2.4],\n",
       "        [6.4, 3.1, 5.5, 1.8],\n",
       "        [6. , 3. , 4.8, 1.8],\n",
       "        [6.9, 3.1, 5.4, 2.1],\n",
       "        [6.7, 3.1, 5.6, 2.4],\n",
       "        [6.9, 3.1, 5.1, 2.3],\n",
       "        [5.8, 2.7, 5.1, 1.9],\n",
       "        [6.8, 3.2, 5.9, 2.3],\n",
       "        [6.7, 3.3, 5.7, 2.5],\n",
       "        [6.7, 3. , 5.2, 2.3],\n",
       "        [6.3, 2.5, 5. , 1.9],\n",
       "        [6.5, 3. , 5.2, 2. ],\n",
       "        [6.2, 3.4, 5.4, 2.3],\n",
       "        [5.9, 3. , 5.1, 1.8]]),\n",
       " 'target': array([0, 0, 0, 0, 0, 0, 0, 0, 0, 0, 0, 0, 0, 0, 0, 0, 0, 0, 0, 0, 0, 0,\n",
       "        0, 0, 0, 0, 0, 0, 0, 0, 0, 0, 0, 0, 0, 0, 0, 0, 0, 0, 0, 0, 0, 0,\n",
       "        0, 0, 0, 0, 0, 0, 1, 1, 1, 1, 1, 1, 1, 1, 1, 1, 1, 1, 1, 1, 1, 1,\n",
       "        1, 1, 1, 1, 1, 1, 1, 1, 1, 1, 1, 1, 1, 1, 1, 1, 1, 1, 1, 1, 1, 1,\n",
       "        1, 1, 1, 1, 1, 1, 1, 1, 1, 1, 1, 1, 2, 2, 2, 2, 2, 2, 2, 2, 2, 2,\n",
       "        2, 2, 2, 2, 2, 2, 2, 2, 2, 2, 2, 2, 2, 2, 2, 2, 2, 2, 2, 2, 2, 2,\n",
       "        2, 2, 2, 2, 2, 2, 2, 2, 2, 2, 2, 2, 2, 2, 2, 2, 2, 2]),\n",
       " 'frame': None,\n",
       " 'target_names': array(['setosa', 'versicolor', 'virginica'], dtype='<U10'),\n",
       " 'DESCR': '.. _iris_dataset:\\n\\nIris plants dataset\\n--------------------\\n\\n**Data Set Characteristics:**\\n\\n:Number of Instances: 150 (50 in each of three classes)\\n:Number of Attributes: 4 numeric, predictive attributes and the class\\n:Attribute Information:\\n    - sepal length in cm\\n    - sepal width in cm\\n    - petal length in cm\\n    - petal width in cm\\n    - class:\\n            - Iris-Setosa\\n            - Iris-Versicolour\\n            - Iris-Virginica\\n\\n:Summary Statistics:\\n\\n============== ==== ==== ======= ===== ====================\\n                Min  Max   Mean    SD   Class Correlation\\n============== ==== ==== ======= ===== ====================\\nsepal length:   4.3  7.9   5.84   0.83    0.7826\\nsepal width:    2.0  4.4   3.05   0.43   -0.4194\\npetal length:   1.0  6.9   3.76   1.76    0.9490  (high!)\\npetal width:    0.1  2.5   1.20   0.76    0.9565  (high!)\\n============== ==== ==== ======= ===== ====================\\n\\n:Missing Attribute Values: None\\n:Class Distribution: 33.3% for each of 3 classes.\\n:Creator: R.A. Fisher\\n:Donor: Michael Marshall (MARSHALL%PLU@io.arc.nasa.gov)\\n:Date: July, 1988\\n\\nThe famous Iris database, first used by Sir R.A. Fisher. The dataset is taken\\nfrom Fisher\\'s paper. Note that it\\'s the same as in R, but not as in the UCI\\nMachine Learning Repository, which has two wrong data points.\\n\\nThis is perhaps the best known database to be found in the\\npattern recognition literature.  Fisher\\'s paper is a classic in the field and\\nis referenced frequently to this day.  (See Duda & Hart, for example.)  The\\ndata set contains 3 classes of 50 instances each, where each class refers to a\\ntype of iris plant.  One class is linearly separable from the other 2; the\\nlatter are NOT linearly separable from each other.\\n\\n.. dropdown:: References\\n\\n  - Fisher, R.A. \"The use of multiple measurements in taxonomic problems\"\\n    Annual Eugenics, 7, Part II, 179-188 (1936); also in \"Contributions to\\n    Mathematical Statistics\" (John Wiley, NY, 1950).\\n  - Duda, R.O., & Hart, P.E. (1973) Pattern Classification and Scene Analysis.\\n    (Q327.D83) John Wiley & Sons.  ISBN 0-471-22361-1.  See page 218.\\n  - Dasarathy, B.V. (1980) \"Nosing Around the Neighborhood: A New System\\n    Structure and Classification Rule for Recognition in Partially Exposed\\n    Environments\".  IEEE Transactions on Pattern Analysis and Machine\\n    Intelligence, Vol. PAMI-2, No. 1, 67-71.\\n  - Gates, G.W. (1972) \"The Reduced Nearest Neighbor Rule\".  IEEE Transactions\\n    on Information Theory, May 1972, 431-433.\\n  - See also: 1988 MLC Proceedings, 54-64.  Cheeseman et al\"s AUTOCLASS II\\n    conceptual clustering system finds 3 classes in the data.\\n  - Many, many more ...\\n',\n",
       " 'feature_names': ['sepal length (cm)',\n",
       "  'sepal width (cm)',\n",
       "  'petal length (cm)',\n",
       "  'petal width (cm)'],\n",
       " 'filename': 'iris.csv',\n",
       " 'data_module': 'sklearn.datasets.data'}"
      ]
     },
     "execution_count": 1,
     "metadata": {},
     "output_type": "execute_result"
    }
   ],
   "source": [
    "import sklearn as skl\n",
    "\n",
    "# using the sklearn.datasets() function to load in the iris data and storing as variable: 'data'\n",
    "data = skl.datasets.load_iris()\n",
    "data\n"
   ]
  },
  {
   "cell_type": "code",
   "execution_count": 2,
   "metadata": {},
   "outputs": [
    {
     "data": {
      "text/plain": [
       "array(['setosa', 'versicolor', 'virginica'], dtype='<U10')"
      ]
     },
     "execution_count": 2,
     "metadata": {},
     "output_type": "execute_result"
    }
   ],
   "source": [
    "data['target_names']"
   ]
  },
  {
   "cell_type": "code",
   "execution_count": 3,
   "metadata": {},
   "outputs": [
    {
     "data": {
      "text/plain": [
       "['sepal length (cm)',\n",
       " 'sepal width (cm)',\n",
       " 'petal length (cm)',\n",
       " 'petal width (cm)']"
      ]
     },
     "execution_count": 3,
     "metadata": {},
     "output_type": "execute_result"
    }
   ],
   "source": [
    "data['feature_names']"
   ]
  },
  {
   "cell_type": "markdown",
   "metadata": {},
   "source": [
    "## Task 2: Explore the Data Structure\n",
    "\n",
    "In order to efficiently explore the data set, I am going to convert it into a Pandas Data Frame, so that I can firstly deal with just the critical and significant data (feature names, targets, actual data points such as sepal length and width, etc. rather than the DESCR attribute, file_name etc.) and secondly so I can call the pandas shape and head method etc.\n",
    "\n",
    "To do this I am importing the pandas library. As sirected in the following resource: https://medium.com/@merilainen.vili/how-to-convert-a-scikit-learn-dataset-to-a-pandas-dataframe-6806fa42a98e#:~:text=Convert%20Data%20from%20Bunch%20Object,of%20this%20variable%20is%20sklearn.\n",
    "\n",
    "According to Pandas documentation, the pd.Data_Frame method accepts the following parameters: data, index, columns, dtype, copy. After initially getting an error, I realised that I needed to specify the column labels as the feature names present in the iris data.\n",
    "\n",
    "### print and explain:\n",
    "- the shape of the dataset\n",
    "    - When I print the shape of the data set using the .shape() method, python returns 150,4, indicating that there are 150 rows and 4 columns in the dataset.\n",
    "- the first and last 5 rows\n",
    "    - I used the head() and tail() methods to print the first and last 5 rows of the data set. This shows me that as instructed, python has created a data frame for me that contains 4 columns corresponding to the feature names in the iris data set (sepal length (cm), sepal width (cm), petal length (cm), petal width (cm)). Also as instructed, the data frame's index is set to the target values i.e the class for each piece of data (0,1,2 corresponding to each target name)\n",
    "\n",
    "I defined a function in order to add in a column of species names corresponding to the class id column to enhance readability and enable my exploration of the data structure. I did so using this resource: https://saturncloud.io/blog/how-to-create-a-new-column-based-on-the-value-of-another-column-in-pandas/\n",
    "\n",
    "I also reordered the columns working off this resource: https://docs.kanaries.net/topics/Pandas/pandas-reorder-columns\n",
    "\n"
   ]
  },
  {
   "cell_type": "code",
   "execution_count": 4,
   "metadata": {},
   "outputs": [
    {
     "name": "stdout",
     "output_type": "stream",
     "text": [
      "(150, 5)\n",
      "   class_id  sepal length (cm)  sepal width (cm)  petal length (cm)  \\\n",
      "0         0                5.1               3.5                1.4   \n",
      "1         0                4.9               3.0                1.4   \n",
      "2         0                4.7               3.2                1.3   \n",
      "3         0                4.6               3.1                1.5   \n",
      "4         0                5.0               3.6                1.4   \n",
      "\n",
      "   petal width (cm)  \n",
      "0               0.2  \n",
      "1               0.2  \n",
      "2               0.2  \n",
      "3               0.2  \n",
      "4               0.2  \n",
      "     class_id  sepal length (cm)  sepal width (cm)  petal length (cm)  \\\n",
      "145         2                6.7               3.0                5.2   \n",
      "146         2                6.3               2.5                5.0   \n",
      "147         2                6.5               3.0                5.2   \n",
      "148         2                6.2               3.4                5.4   \n",
      "149         2                5.9               3.0                5.1   \n",
      "\n",
      "     petal width (cm)  \n",
      "145               2.3  \n",
      "146               1.9  \n",
      "147               2.0  \n",
      "148               2.3  \n",
      "149               1.8  \n"
     ]
    },
    {
     "data": {
      "text/html": [
       "<div>\n",
       "<style scoped>\n",
       "    .dataframe tbody tr th:only-of-type {\n",
       "        vertical-align: middle;\n",
       "    }\n",
       "\n",
       "    .dataframe tbody tr th {\n",
       "        vertical-align: top;\n",
       "    }\n",
       "\n",
       "    .dataframe thead th {\n",
       "        text-align: right;\n",
       "    }\n",
       "</style>\n",
       "<table border=\"1\" class=\"dataframe\">\n",
       "  <thead>\n",
       "    <tr style=\"text-align: right;\">\n",
       "      <th></th>\n",
       "      <th>class_id</th>\n",
       "      <th>class_name</th>\n",
       "      <th>sepal length (cm)</th>\n",
       "      <th>sepal width (cm)</th>\n",
       "      <th>petal length (cm)</th>\n",
       "      <th>petal width (cm)</th>\n",
       "    </tr>\n",
       "  </thead>\n",
       "  <tbody>\n",
       "    <tr>\n",
       "      <th>0</th>\n",
       "      <td>0</td>\n",
       "      <td>setosa</td>\n",
       "      <td>5.1</td>\n",
       "      <td>3.5</td>\n",
       "      <td>1.4</td>\n",
       "      <td>0.2</td>\n",
       "    </tr>\n",
       "    <tr>\n",
       "      <th>1</th>\n",
       "      <td>0</td>\n",
       "      <td>setosa</td>\n",
       "      <td>4.9</td>\n",
       "      <td>3.0</td>\n",
       "      <td>1.4</td>\n",
       "      <td>0.2</td>\n",
       "    </tr>\n",
       "    <tr>\n",
       "      <th>2</th>\n",
       "      <td>0</td>\n",
       "      <td>setosa</td>\n",
       "      <td>4.7</td>\n",
       "      <td>3.2</td>\n",
       "      <td>1.3</td>\n",
       "      <td>0.2</td>\n",
       "    </tr>\n",
       "    <tr>\n",
       "      <th>3</th>\n",
       "      <td>0</td>\n",
       "      <td>setosa</td>\n",
       "      <td>4.6</td>\n",
       "      <td>3.1</td>\n",
       "      <td>1.5</td>\n",
       "      <td>0.2</td>\n",
       "    </tr>\n",
       "    <tr>\n",
       "      <th>4</th>\n",
       "      <td>0</td>\n",
       "      <td>setosa</td>\n",
       "      <td>5.0</td>\n",
       "      <td>3.6</td>\n",
       "      <td>1.4</td>\n",
       "      <td>0.2</td>\n",
       "    </tr>\n",
       "    <tr>\n",
       "      <th>...</th>\n",
       "      <td>...</td>\n",
       "      <td>...</td>\n",
       "      <td>...</td>\n",
       "      <td>...</td>\n",
       "      <td>...</td>\n",
       "      <td>...</td>\n",
       "    </tr>\n",
       "    <tr>\n",
       "      <th>145</th>\n",
       "      <td>2</td>\n",
       "      <td>virginica</td>\n",
       "      <td>6.7</td>\n",
       "      <td>3.0</td>\n",
       "      <td>5.2</td>\n",
       "      <td>2.3</td>\n",
       "    </tr>\n",
       "    <tr>\n",
       "      <th>146</th>\n",
       "      <td>2</td>\n",
       "      <td>virginica</td>\n",
       "      <td>6.3</td>\n",
       "      <td>2.5</td>\n",
       "      <td>5.0</td>\n",
       "      <td>1.9</td>\n",
       "    </tr>\n",
       "    <tr>\n",
       "      <th>147</th>\n",
       "      <td>2</td>\n",
       "      <td>virginica</td>\n",
       "      <td>6.5</td>\n",
       "      <td>3.0</td>\n",
       "      <td>5.2</td>\n",
       "      <td>2.0</td>\n",
       "    </tr>\n",
       "    <tr>\n",
       "      <th>148</th>\n",
       "      <td>2</td>\n",
       "      <td>virginica</td>\n",
       "      <td>6.2</td>\n",
       "      <td>3.4</td>\n",
       "      <td>5.4</td>\n",
       "      <td>2.3</td>\n",
       "    </tr>\n",
       "    <tr>\n",
       "      <th>149</th>\n",
       "      <td>2</td>\n",
       "      <td>virginica</td>\n",
       "      <td>5.9</td>\n",
       "      <td>3.0</td>\n",
       "      <td>5.1</td>\n",
       "      <td>1.8</td>\n",
       "    </tr>\n",
       "  </tbody>\n",
       "</table>\n",
       "<p>150 rows × 6 columns</p>\n",
       "</div>"
      ],
      "text/plain": [
       "     class_id class_name  sepal length (cm)  sepal width (cm)  \\\n",
       "0           0     setosa                5.1               3.5   \n",
       "1           0     setosa                4.9               3.0   \n",
       "2           0     setosa                4.7               3.2   \n",
       "3           0     setosa                4.6               3.1   \n",
       "4           0     setosa                5.0               3.6   \n",
       "..        ...        ...                ...               ...   \n",
       "145         2  virginica                6.7               3.0   \n",
       "146         2  virginica                6.3               2.5   \n",
       "147         2  virginica                6.5               3.0   \n",
       "148         2  virginica                6.2               3.4   \n",
       "149         2  virginica                5.9               3.0   \n",
       "\n",
       "     petal length (cm)  petal width (cm)  \n",
       "0                  1.4               0.2  \n",
       "1                  1.4               0.2  \n",
       "2                  1.3               0.2  \n",
       "3                  1.5               0.2  \n",
       "4                  1.4               0.2  \n",
       "..                 ...               ...  \n",
       "145                5.2               2.3  \n",
       "146                5.0               1.9  \n",
       "147                5.2               2.0  \n",
       "148                5.4               2.3  \n",
       "149                5.1               1.8  \n",
       "\n",
       "[150 rows x 6 columns]"
      ]
     },
     "execution_count": 4,
     "metadata": {},
     "output_type": "execute_result"
    }
   ],
   "source": [
    "# importing pandas library\n",
    "import pandas as pd\n",
    "\n",
    "# checking type of iris dataset, stored as data\n",
    "type(data)\n",
    "\n",
    "# converting iris dataset 'data' to pandas dataframe for data exploration, creating an additional dataframe for the target values, and then combining the two so the target\n",
    "# values and then combining the two so the target values can be viewed side by side with the feature data\n",
    "df = pd.DataFrame(data.data, columns=data.feature_names)\n",
    "df_classes = pd.DataFrame(data.target, columns=['class_id'])\n",
    "df_concat = pd.concat([df_classes, df], axis=1)\n",
    "\n",
    "# printing the shape of the data set\n",
    "print(df_concat.shape)\n",
    "\n",
    "# printing the first 5 rows\n",
    "print(df_concat.head(5))\n",
    "\n",
    "# printing last 5 rows\n",
    "print(df_concat.tail(5))\n",
    "\n",
    "# defining a function to add a column for the class name (versicolor, virginica etc.)\n",
    "def est_class(class_id):\n",
    "    if class_id == 0:\n",
    "        return 'setosa'\n",
    "    if class_id == 1:\n",
    "        return 'versicolor'\n",
    "    if class_id == 2:\n",
    "        return 'virginica'\n",
    "    \n",
    "df_concat['class_name'] = df_concat['class_id'].apply(est_class)\n",
    "\n",
    "df_concat.head()\n",
    "\n",
    "df_reord = df_concat.reindex(['class_id', 'class_name', 'sepal length (cm)', 'sepal width (cm)', 'petal length (cm)', 'petal width (cm)'], axis=1)\n",
    "\n",
    "df_reord\n",
    "\n"
   ]
  },
  {
   "cell_type": "markdown",
   "metadata": {},
   "source": [
    "## Task 3: Summarising the dataset\n",
    "\n",
    "Resources used: https://jakevdp.github.io/PythonDataScienceHandbook/02.04-computation-on-arrays-aggregates.html\n",
    "\n",
    "As Numpy has fast built-in aggregation functions for working on arrays, I convert the dataset into a numpy array below."
   ]
  },
  {
   "cell_type": "code",
   "execution_count": 5,
   "metadata": {},
   "outputs": [
    {
     "name": "stdout",
     "output_type": "stream",
     "text": [
      "[[0 'setosa' 5.1 3.5 1.4 0.2]\n",
      " [0 'setosa' 4.9 3.0 1.4 0.2]\n",
      " [0 'setosa' 4.7 3.2 1.3 0.2]\n",
      " [0 'setosa' 4.6 3.1 1.5 0.2]\n",
      " [0 'setosa' 5.0 3.6 1.4 0.2]\n",
      " [0 'setosa' 5.4 3.9 1.7 0.4]\n",
      " [0 'setosa' 4.6 3.4 1.4 0.3]\n",
      " [0 'setosa' 5.0 3.4 1.5 0.2]\n",
      " [0 'setosa' 4.4 2.9 1.4 0.2]\n",
      " [0 'setosa' 4.9 3.1 1.5 0.1]\n",
      " [0 'setosa' 5.4 3.7 1.5 0.2]\n",
      " [0 'setosa' 4.8 3.4 1.6 0.2]\n",
      " [0 'setosa' 4.8 3.0 1.4 0.1]\n",
      " [0 'setosa' 4.3 3.0 1.1 0.1]\n",
      " [0 'setosa' 5.8 4.0 1.2 0.2]\n",
      " [0 'setosa' 5.7 4.4 1.5 0.4]\n",
      " [0 'setosa' 5.4 3.9 1.3 0.4]\n",
      " [0 'setosa' 5.1 3.5 1.4 0.3]\n",
      " [0 'setosa' 5.7 3.8 1.7 0.3]\n",
      " [0 'setosa' 5.1 3.8 1.5 0.3]\n",
      " [0 'setosa' 5.4 3.4 1.7 0.2]\n",
      " [0 'setosa' 5.1 3.7 1.5 0.4]\n",
      " [0 'setosa' 4.6 3.6 1.0 0.2]\n",
      " [0 'setosa' 5.1 3.3 1.7 0.5]\n",
      " [0 'setosa' 4.8 3.4 1.9 0.2]\n",
      " [0 'setosa' 5.0 3.0 1.6 0.2]\n",
      " [0 'setosa' 5.0 3.4 1.6 0.4]\n",
      " [0 'setosa' 5.2 3.5 1.5 0.2]\n",
      " [0 'setosa' 5.2 3.4 1.4 0.2]\n",
      " [0 'setosa' 4.7 3.2 1.6 0.2]\n",
      " [0 'setosa' 4.8 3.1 1.6 0.2]\n",
      " [0 'setosa' 5.4 3.4 1.5 0.4]\n",
      " [0 'setosa' 5.2 4.1 1.5 0.1]\n",
      " [0 'setosa' 5.5 4.2 1.4 0.2]\n",
      " [0 'setosa' 4.9 3.1 1.5 0.2]\n",
      " [0 'setosa' 5.0 3.2 1.2 0.2]\n",
      " [0 'setosa' 5.5 3.5 1.3 0.2]\n",
      " [0 'setosa' 4.9 3.6 1.4 0.1]\n",
      " [0 'setosa' 4.4 3.0 1.3 0.2]\n",
      " [0 'setosa' 5.1 3.4 1.5 0.2]\n",
      " [0 'setosa' 5.0 3.5 1.3 0.3]\n",
      " [0 'setosa' 4.5 2.3 1.3 0.3]\n",
      " [0 'setosa' 4.4 3.2 1.3 0.2]\n",
      " [0 'setosa' 5.0 3.5 1.6 0.6]\n",
      " [0 'setosa' 5.1 3.8 1.9 0.4]\n",
      " [0 'setosa' 4.8 3.0 1.4 0.3]\n",
      " [0 'setosa' 5.1 3.8 1.6 0.2]\n",
      " [0 'setosa' 4.6 3.2 1.4 0.2]\n",
      " [0 'setosa' 5.3 3.7 1.5 0.2]\n",
      " [0 'setosa' 5.0 3.3 1.4 0.2]\n",
      " [1 'versicolor' 7.0 3.2 4.7 1.4]\n",
      " [1 'versicolor' 6.4 3.2 4.5 1.5]\n",
      " [1 'versicolor' 6.9 3.1 4.9 1.5]\n",
      " [1 'versicolor' 5.5 2.3 4.0 1.3]\n",
      " [1 'versicolor' 6.5 2.8 4.6 1.5]\n",
      " [1 'versicolor' 5.7 2.8 4.5 1.3]\n",
      " [1 'versicolor' 6.3 3.3 4.7 1.6]\n",
      " [1 'versicolor' 4.9 2.4 3.3 1.0]\n",
      " [1 'versicolor' 6.6 2.9 4.6 1.3]\n",
      " [1 'versicolor' 5.2 2.7 3.9 1.4]\n",
      " [1 'versicolor' 5.0 2.0 3.5 1.0]\n",
      " [1 'versicolor' 5.9 3.0 4.2 1.5]\n",
      " [1 'versicolor' 6.0 2.2 4.0 1.0]\n",
      " [1 'versicolor' 6.1 2.9 4.7 1.4]\n",
      " [1 'versicolor' 5.6 2.9 3.6 1.3]\n",
      " [1 'versicolor' 6.7 3.1 4.4 1.4]\n",
      " [1 'versicolor' 5.6 3.0 4.5 1.5]\n",
      " [1 'versicolor' 5.8 2.7 4.1 1.0]\n",
      " [1 'versicolor' 6.2 2.2 4.5 1.5]\n",
      " [1 'versicolor' 5.6 2.5 3.9 1.1]\n",
      " [1 'versicolor' 5.9 3.2 4.8 1.8]\n",
      " [1 'versicolor' 6.1 2.8 4.0 1.3]\n",
      " [1 'versicolor' 6.3 2.5 4.9 1.5]\n",
      " [1 'versicolor' 6.1 2.8 4.7 1.2]\n",
      " [1 'versicolor' 6.4 2.9 4.3 1.3]\n",
      " [1 'versicolor' 6.6 3.0 4.4 1.4]\n",
      " [1 'versicolor' 6.8 2.8 4.8 1.4]\n",
      " [1 'versicolor' 6.7 3.0 5.0 1.7]\n",
      " [1 'versicolor' 6.0 2.9 4.5 1.5]\n",
      " [1 'versicolor' 5.7 2.6 3.5 1.0]\n",
      " [1 'versicolor' 5.5 2.4 3.8 1.1]\n",
      " [1 'versicolor' 5.5 2.4 3.7 1.0]\n",
      " [1 'versicolor' 5.8 2.7 3.9 1.2]\n",
      " [1 'versicolor' 6.0 2.7 5.1 1.6]\n",
      " [1 'versicolor' 5.4 3.0 4.5 1.5]\n",
      " [1 'versicolor' 6.0 3.4 4.5 1.6]\n",
      " [1 'versicolor' 6.7 3.1 4.7 1.5]\n",
      " [1 'versicolor' 6.3 2.3 4.4 1.3]\n",
      " [1 'versicolor' 5.6 3.0 4.1 1.3]\n",
      " [1 'versicolor' 5.5 2.5 4.0 1.3]\n",
      " [1 'versicolor' 5.5 2.6 4.4 1.2]\n",
      " [1 'versicolor' 6.1 3.0 4.6 1.4]\n",
      " [1 'versicolor' 5.8 2.6 4.0 1.2]\n",
      " [1 'versicolor' 5.0 2.3 3.3 1.0]\n",
      " [1 'versicolor' 5.6 2.7 4.2 1.3]\n",
      " [1 'versicolor' 5.7 3.0 4.2 1.2]\n",
      " [1 'versicolor' 5.7 2.9 4.2 1.3]\n",
      " [1 'versicolor' 6.2 2.9 4.3 1.3]\n",
      " [1 'versicolor' 5.1 2.5 3.0 1.1]\n",
      " [1 'versicolor' 5.7 2.8 4.1 1.3]\n",
      " [2 'virginica' 6.3 3.3 6.0 2.5]\n",
      " [2 'virginica' 5.8 2.7 5.1 1.9]\n",
      " [2 'virginica' 7.1 3.0 5.9 2.1]\n",
      " [2 'virginica' 6.3 2.9 5.6 1.8]\n",
      " [2 'virginica' 6.5 3.0 5.8 2.2]\n",
      " [2 'virginica' 7.6 3.0 6.6 2.1]\n",
      " [2 'virginica' 4.9 2.5 4.5 1.7]\n",
      " [2 'virginica' 7.3 2.9 6.3 1.8]\n",
      " [2 'virginica' 6.7 2.5 5.8 1.8]\n",
      " [2 'virginica' 7.2 3.6 6.1 2.5]\n",
      " [2 'virginica' 6.5 3.2 5.1 2.0]\n",
      " [2 'virginica' 6.4 2.7 5.3 1.9]\n",
      " [2 'virginica' 6.8 3.0 5.5 2.1]\n",
      " [2 'virginica' 5.7 2.5 5.0 2.0]\n",
      " [2 'virginica' 5.8 2.8 5.1 2.4]\n",
      " [2 'virginica' 6.4 3.2 5.3 2.3]\n",
      " [2 'virginica' 6.5 3.0 5.5 1.8]\n",
      " [2 'virginica' 7.7 3.8 6.7 2.2]\n",
      " [2 'virginica' 7.7 2.6 6.9 2.3]\n",
      " [2 'virginica' 6.0 2.2 5.0 1.5]\n",
      " [2 'virginica' 6.9 3.2 5.7 2.3]\n",
      " [2 'virginica' 5.6 2.8 4.9 2.0]\n",
      " [2 'virginica' 7.7 2.8 6.7 2.0]\n",
      " [2 'virginica' 6.3 2.7 4.9 1.8]\n",
      " [2 'virginica' 6.7 3.3 5.7 2.1]\n",
      " [2 'virginica' 7.2 3.2 6.0 1.8]\n",
      " [2 'virginica' 6.2 2.8 4.8 1.8]\n",
      " [2 'virginica' 6.1 3.0 4.9 1.8]\n",
      " [2 'virginica' 6.4 2.8 5.6 2.1]\n",
      " [2 'virginica' 7.2 3.0 5.8 1.6]\n",
      " [2 'virginica' 7.4 2.8 6.1 1.9]\n",
      " [2 'virginica' 7.9 3.8 6.4 2.0]\n",
      " [2 'virginica' 6.4 2.8 5.6 2.2]\n",
      " [2 'virginica' 6.3 2.8 5.1 1.5]\n",
      " [2 'virginica' 6.1 2.6 5.6 1.4]\n",
      " [2 'virginica' 7.7 3.0 6.1 2.3]\n",
      " [2 'virginica' 6.3 3.4 5.6 2.4]\n",
      " [2 'virginica' 6.4 3.1 5.5 1.8]\n",
      " [2 'virginica' 6.0 3.0 4.8 1.8]\n",
      " [2 'virginica' 6.9 3.1 5.4 2.1]\n",
      " [2 'virginica' 6.7 3.1 5.6 2.4]\n",
      " [2 'virginica' 6.9 3.1 5.1 2.3]\n",
      " [2 'virginica' 5.8 2.7 5.1 1.9]\n",
      " [2 'virginica' 6.8 3.2 5.9 2.3]\n",
      " [2 'virginica' 6.7 3.3 5.7 2.5]\n",
      " [2 'virginica' 6.7 3.0 5.2 2.3]\n",
      " [2 'virginica' 6.3 2.5 5.0 1.9]\n",
      " [2 'virginica' 6.5 3.0 5.2 2.0]\n",
      " [2 'virginica' 6.2 3.4 5.4 2.3]\n",
      " [2 'virginica' 5.9 3.0 5.1 1.8]]\n"
     ]
    }
   ],
   "source": [
    "import numpy as np\n",
    "\n",
    "iris_array = np.array(df_reord)\n",
    "print(iris_array)"
   ]
  },
  {
   "cell_type": "markdown",
   "metadata": {},
   "source": [
    "### Calculating the mean of each feature"
   ]
  },
  {
   "cell_type": "code",
   "execution_count": 6,
   "metadata": {},
   "outputs": [
    {
     "name": "stdout",
     "output_type": "stream",
     "text": [
      "The mean sepal length (cm) is 5.843333333333335\n",
      "The mean sepal width (cm) is 3.057333333333334\n",
      "The mean petal length (cm) is 3.7580000000000027\n",
      "The mean petal width (cm) is 1.199333333333334\n"
     ]
    }
   ],
   "source": [
    "# firstly slicing for the sepal length column and then saving that as variable sepal_l_mean\n",
    "sepal_l_mean = np.mean(iris_array[:, 2])\n",
    "# Then printing the mean of that feature\n",
    "print(f\"The mean sepal length (cm) is {sepal_l_mean}\")\n",
    "\n",
    "sepal_w_mean = np.mean(iris_array[:, 3])\n",
    "print(f\"The mean sepal width (cm) is {sepal_w_mean}\")\n",
    "\n",
    "petal_l_mean = np.mean(iris_array[:, 4])\n",
    "print(f\"The mean petal length (cm) is {petal_l_mean}\")\n",
    "\n",
    "petal_w_mean = np.mean(iris_array[:, 5])\n",
    "print(f\"The mean petal width (cm) is {petal_w_mean}\")"
   ]
  },
  {
   "cell_type": "markdown",
   "metadata": {},
   "source": [
    "### Calculating the minimum value for each feature"
   ]
  },
  {
   "cell_type": "code",
   "execution_count": 7,
   "metadata": {},
   "outputs": [
    {
     "name": "stdout",
     "output_type": "stream",
     "text": [
      "The minimum value for the sepal length (cm) is 4.3\n",
      "The minimum value for the sepal width (cm) is 2.0\n",
      "The minimum value for the petal length (cm) is 1.0\n",
      "The minimim value for the petal width (cm) is 0.1\n"
     ]
    }
   ],
   "source": [
    "sepal_l_min = np.min(iris_array[:, 2])\n",
    "print(f\"The minimum value for the sepal length (cm) is {sepal_l_min}\")\n",
    "\n",
    "sepal_w_min = np.min(iris_array[:, 3])\n",
    "print(f\"The minimum value for the sepal width (cm) is {sepal_w_min}\")\n",
    "\n",
    "petal_l_min = np.min(iris_array[:, 4])\n",
    "print(f\"The minimum value for the petal length (cm) is {petal_l_min}\")\n",
    "\n",
    "petal_w_min = np.min(iris_array[:, 5])\n",
    "print(f\"The minimim value for the petal width (cm) is {petal_w_min}\")"
   ]
  },
  {
   "cell_type": "markdown",
   "metadata": {},
   "source": [
    "### Calculating the maximum value for each feature"
   ]
  },
  {
   "cell_type": "code",
   "execution_count": 8,
   "metadata": {},
   "outputs": [
    {
     "name": "stdout",
     "output_type": "stream",
     "text": [
      "The maximum value for the sepal length (cm) is 7.9\n",
      "The maximum value for the sepal width (cm) is 4.4\n",
      "The maximum value for the petal length (cm) is 6.9\n",
      "The maximum value for the petal width (cm) is 2.5\n"
     ]
    }
   ],
   "source": [
    "sepal_l_max = np.max(iris_array[:, 2])\n",
    "print(f\"The maximum value for the sepal length (cm) is {sepal_l_max}\")\n",
    "\n",
    "sepal_w_max = np.max(iris_array[:, 3])\n",
    "print(f\"The maximum value for the sepal width (cm) is {sepal_w_max}\")\n",
    "\n",
    "petal_l_max = np.max(iris_array[:, 4])\n",
    "print(f\"The maximum value for the petal length (cm) is {petal_l_max}\")\n",
    "\n",
    "petal_w_max = np.max(iris_array[:, 5])\n",
    "print(f\"The maximum value for the petal width (cm) is {petal_w_max}\")"
   ]
  },
  {
   "cell_type": "markdown",
   "metadata": {},
   "source": [
    "### Caluclating the standard deviation for each feature"
   ]
  },
  {
   "cell_type": "code",
   "execution_count": 9,
   "metadata": {},
   "outputs": [
    {
     "name": "stdout",
     "output_type": "stream",
     "text": [
      "The standard deviation for the sepal length (cm) is 0.8253012917851409\n",
      "The standard deviation for the sepal width (cm) is 0.43441096773549437\n",
      "The standard deviation for the petal length (cm) is 1.7594040657753032\n",
      "The standard deviation for the petal width (cm) is 0.7596926279021594\n"
     ]
    }
   ],
   "source": [
    "sepal_l_sd = np.std(iris_array[:, 2])\n",
    "print(f\"The standard deviation for the sepal length (cm) is {sepal_l_sd}\")\n",
    "\n",
    "sepal_w_sd = np.std(iris_array[:, 3])\n",
    "print(f\"The standard deviation for the sepal width (cm) is {sepal_w_sd}\")\n",
    "\n",
    "petal_l_sd = np.std(iris_array[:, 4])\n",
    "print(f\"The standard deviation for the petal length (cm) is {petal_l_sd}\")\n",
    "\n",
    "petal_w_sd = np.std(iris_array[:, 5])\n",
    "print(f\"The standard deviation for the petal width (cm) is {petal_w_sd}\")"
   ]
  },
  {
   "cell_type": "markdown",
   "metadata": {},
   "source": [
    "### Calculating the median value for each feature"
   ]
  },
  {
   "cell_type": "code",
   "execution_count": 10,
   "metadata": {},
   "outputs": [
    {
     "name": "stdout",
     "output_type": "stream",
     "text": [
      "The median value for the sepal length (cm) is 5.8\n",
      "The median value for the sepal width (cm) is 3.0\n",
      "The median value for the petal length (cm) is 4.35\n",
      "The median value for the petal width (cm) is 1.3\n"
     ]
    }
   ],
   "source": [
    "sepal_l_med = np.median(iris_array[:, 2])\n",
    "print(f\"The median value for the sepal length (cm) is {sepal_l_med}\")\n",
    "\n",
    "sepal_w_med = np.median(iris_array[:, 3])\n",
    "print(f\"The median value for the sepal width (cm) is {sepal_w_med}\")\n",
    "\n",
    "petal_l_med = np.median(iris_array[:, 4])\n",
    "print(f\"The median value for the petal length (cm) is {petal_l_med}\")\n",
    "\n",
    "petal_w_med = np.median(iris_array[:, 5])\n",
    "print(f\"The median value for the petal width (cm) is {petal_w_med}\")"
   ]
  },
  {
   "cell_type": "markdown",
   "metadata": {},
   "source": [
    "## Task 4: Visualise features"
   ]
  },
  {
   "cell_type": "markdown",
   "metadata": {},
   "source": [
    "### plotting a histogram for each feature\n",
    "\n",
    "Sources: https://matplotlib.org/stable/api/_as_gen/matplotlib.pyplot.hist.html\n",
    "\n",
    "For each feature (sepal length/width, petal length/width) I am creating a histogram that shows the max, min and median values under each species."
   ]
  },
  {
   "cell_type": "markdown",
   "metadata": {},
   "source": [
    "### Sepal length (cm) histogram\n",
    "\n",
    "This histogram shows the sepal length (cm) data. I played around with number of bins, and found that 3 bins gave me the clearest insight, which is that the majority of iris flowers regardless of species have sepal width in the range of approximately 5.5 to 6.5 cm."
   ]
  },
  {
   "cell_type": "code",
   "execution_count": 23,
   "metadata": {},
   "outputs": [
    {
     "data": {
      "image/png": "[encoded data removed]",
      "text/plain": [
       "<Figure size 640x480 with 1 Axes>"
      ]
     },
     "metadata": {},
     "output_type": "display_data"
    }
   ],
   "source": [
    "import matplotlib\n",
    "from matplotlib import pyplot as plt\n",
    "\n",
    "iris_array_num_only = np.delete(iris_array, [1], axis=1)\n",
    "\n",
    "plt.hist(iris_array_num_only[:, 1], bins=3, rwidth=0.8)\n",
    "plt.xlabel('Sepal length (cm)')\n",
    "plt.ylabel('Count')\n",
    "plt.title('Sepal length (cm) distribution')\n",
    "plt.show()"
   ]
  },
  {
   "cell_type": "markdown",
   "metadata": {},
   "source": [
    "### sepal width (cm) histogram"
   ]
  },
  {
   "cell_type": "code",
   "execution_count": 24,
   "metadata": {},
   "outputs": [
    {
     "data": {
      "image/png": "[encoded data removed]",
      "text/plain": [
       "<Figure size 640x480 with 1 Axes>"
      ]
     },
     "metadata": {},
     "output_type": "display_data"
    }
   ],
   "source": [
    "plt.hist(iris_array_num_only[:, 2], bins=3, rwidth=0.8)\n",
    "plt.xlabel('Sepal width (cm)')\n",
    "plt.ylabel('Count')\n",
    "plt.title('Sepal width (cm) distribution')\n",
    "plt.show()"
   ]
  },
  {
   "cell_type": "markdown",
   "metadata": {},
   "source": [
    "### petal length hist\n",
    "\n",
    "Again, I adjusted the number of bins in order to draw out an obvious insight. Here I could see that by a small margin, the majority of plants have a petal length of between 1 and 2 cm."
   ]
  },
  {
   "cell_type": "code",
   "execution_count": 36,
   "metadata": {},
   "outputs": [
    {
     "data": {
      "image/png": "[encoded data removed]",
      "text/plain": [
       "<Figure size 640x480 with 1 Axes>"
      ]
     },
     "metadata": {},
     "output_type": "display_data"
    }
   ],
   "source": [
    "plt.hist(iris_array_num_only[:, 3], bins=10, rwidth=0.8)\n",
    "plt.xlabel('Petal length (cm)')\n",
    "plt.ylabel('Count')\n",
    "plt.title('Petal length (cm) distribution')\n",
    "plt.show()"
   ]
  },
  {
   "cell_type": "markdown",
   "metadata": {},
   "source": [
    "### petal width hist"
   ]
  },
  {
   "cell_type": "code",
   "execution_count": 34,
   "metadata": {},
   "outputs": [
    {
     "data": {
      "image/png": "[encoded data removed]",
      "text/plain": [
       "<Figure size 640x480 with 1 Axes>"
      ]
     },
     "metadata": {},
     "output_type": "display_data"
    }
   ],
   "source": [
    "plt.hist(iris_array_num_only[:, 2], bins=3, rwidth=0.8)\n",
    "plt.xlabel('Petal width (cm)')\n",
    "plt.ylabel('Count')\n",
    "plt.title('Petal width (cm) distribution')\n",
    "plt.show()"
   ]
  },
  {
   "cell_type": "markdown",
   "metadata": {},
   "source": [
    "## End"
   ]
  },
  {
   "cell_type": "markdown",
   "metadata": {},
   "source": []
  }
 ],
 "metadata": {
  "kernelspec": {
   "display_name": "Python 3",
   "language": "python",
   "name": "python3"
  },
  "language_info": {
   "codemirror_mode": {
    "name": "ipython",
    "version": 3
   },
   "file_extension": ".py",
   "mimetype": "text/x-python",
   "name": "python",
   "nbconvert_exporter": "python",
   "pygments_lexer": "ipython3",
   "version": "3.12.1"
  }
 },
 "nbformat": 4,
 "nbformat_minor": 2
}
